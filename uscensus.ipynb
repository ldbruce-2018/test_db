{
 "cells": [
  {
   "attachments": {},
   "cell_type": "markdown",
   "metadata": {
    "application/vnd.databricks.v1+cell": {
     "cellMetadata": {},
     "inputWidgets": {},
     "nuid": "cbd8b57d-5140-4bc3-bc29-d414dcaf95b5",
     "showTitle": false,
     "title": ""
    }
   },
   "source": [
    "# Test run \n",
    "\n",
    "- Test running csv data through census\n",
    "\n",
    "- Commands for switching between pandas and sql in a databricks notebook"
   ]
  },
  {
   "cell_type": "code",
   "execution_count": null,
   "metadata": {
    "application/vnd.databricks.v1+cell": {
     "cellMetadata": {
      "byteLimit": 2048000,
      "implicitDf": true,
      "rowLimit": 10000
     },
     "inputWidgets": {},
     "nuid": "315dee25-6b7c-49e6-9f30-56b839ea182c",
     "showTitle": false,
     "title": ""
    }
   },
   "outputs": [
    {
     "data": {
      "text/html": [
       "<style scoped>\n",
       "  .table-result-container {\n",
       "    max-height: 300px;\n",
       "    overflow: auto;\n",
       "  }\n",
       "  table, th, td {\n",
       "    border: 1px solid black;\n",
       "    border-collapse: collapse;\n",
       "  }\n",
       "  th, td {\n",
       "    padding: 5px;\n",
       "  }\n",
       "  th {\n",
       "    text-align: left;\n",
       "  }\n",
       "</style><div class='table-result-container'><table class='table-result'><thead style='background-color: white'><tr><th>cut</th><th>AverageCarat</th></tr></thead><tbody><tr><td>Premium</td><td>0.89</td></tr><tr><td>Ideal</td><td>0.7</td></tr><tr><td>Good</td><td>0.85</td></tr><tr><td>Fair</td><td>1.05</td></tr><tr><td>Very Good</td><td>0.81</td></tr></tbody></table></div>"
      ]
     },
     "metadata": {
      "application/vnd.databricks.v1+output": {
       "addedWidgets": {},
       "aggData": [],
       "aggError": "",
       "aggOverflow": false,
       "aggSchema": [],
       "aggSeriesLimitReached": false,
       "aggType": "",
       "arguments": {},
       "columnCustomDisplayInfos": {},
       "data": [
        [
         "Premium",
         0.89
        ],
        [
         "Ideal",
         0.7
        ],
        [
         "Good",
         0.85
        ],
        [
         "Fair",
         1.05
        ],
        [
         "Very Good",
         0.81
        ]
       ],
       "datasetInfos": [
        {
         "name": "_sqldf",
         "schema": {
          "fields": [
           {
            "metadata": {},
            "name": "cut",
            "nullable": true,
            "type": "string"
           },
           {
            "metadata": {},
            "name": "AverageCarat",
            "nullable": true,
            "type": "double"
           }
          ],
          "type": "struct"
         },
         "tableIdentifier": null,
         "typeStr": "pyspark.sql.dataframe.DataFrame"
        }
       ],
       "dbfsResultPath": null,
       "isJsonSchema": true,
       "metadata": {
        "dataframeName": "_sqldf",
        "executionCount": 1
       },
       "overflow": false,
       "plotOptions": {
        "customPlotOptions": {},
        "displayType": "table",
        "pivotAggregation": null,
        "pivotColumns": null,
        "xColumns": null,
        "yColumns": null
       },
       "removedWidgets": [],
       "schema": [
        {
         "metadata": "{}",
         "name": "cut",
         "type": "\"string\""
        },
        {
         "metadata": "{}",
         "name": "AverageCarat",
         "type": "\"double\""
        }
       ],
       "type": "table"
      }
     },
     "output_type": "display_data"
    }
   ],
   "source": [
    "%sql\n",
    "CREATE TEMPORARY VIEW diam\n",
    "--ALTER VIEW diam\n",
    "    AS  \n",
    "SELECT * FROM `hive_metastore`.`default`.`diamonds`;\n",
    "SELECT distinct cut, round(avg(carat),2) as AverageCarat\n",
    "FROM diam \n",
    "group by cut\n",
    ";"
   ]
  },
  {
   "cell_type": "code",
   "execution_count": null,
   "metadata": {
    "application/vnd.databricks.v1+cell": {
     "cellMetadata": {
      "byteLimit": 2048000,
      "implicitDf": true,
      "rowLimit": 10000
     },
     "inputWidgets": {},
     "nuid": "cdb47326-ae63-426d-b564-7c19cec219b6",
     "showTitle": false,
     "title": ""
    }
   },
   "outputs": [
    {
     "data": {
      "text/html": [
       "<style scoped>\n",
       "  .table-result-container {\n",
       "    max-height: 300px;\n",
       "    overflow: auto;\n",
       "  }\n",
       "  table, th, td {\n",
       "    border: 1px solid black;\n",
       "    border-collapse: collapse;\n",
       "  }\n",
       "  th, td {\n",
       "    padding: 5px;\n",
       "  }\n",
       "  th {\n",
       "    text-align: left;\n",
       "  }\n",
       "</style><div class='table-result-container'><table class='table-result'><thead style='background-color: white'><tr><th>id</th><th>address1</th><th>city</th><th>state</th><th>zip</th></tr></thead><tbody><tr><td>1</td><td>4600 Silver Hill Rd</td><td>Suitland</td><td>MD</td><td>20746</td></tr><tr><td>2</td><td>79 Wistful Vista</td><td>Peoria</td><td>IL</td><td>61604</td></tr><tr><td>3</td><td>3 Gramercy Park West</td><td>New York</td><td>NY</td><td>10003</td></tr><tr><td>3B</td><td>3 Gramercy Park West</td><td>New York</td><td>NY</td><td>null</td></tr><tr><td>3C</td><td>3 Gramercy Park West</td><td>null</td><td>null</td><td>10003</td></tr><tr><td>4A</td><td>2711 4th St NW</td><td>Albuquerque</td><td>NM</td><td>87107</td></tr><tr><td>4B</td><td>346 W 600 S</td><td>Salt Lake City</td><td>Utah</td><td>84101</td></tr></tbody></table></div>"
      ]
     },
     "metadata": {
      "application/vnd.databricks.v1+output": {
       "addedWidgets": {},
       "aggData": [],
       "aggError": "",
       "aggOverflow": false,
       "aggSchema": [],
       "aggSeriesLimitReached": false,
       "aggType": "",
       "arguments": {},
       "columnCustomDisplayInfos": {},
       "data": [
        [
         "1",
         "4600 Silver Hill Rd",
         "Suitland",
         "MD",
         20746
        ],
        [
         "2",
         "79 Wistful Vista",
         "Peoria",
         "IL",
         61604
        ],
        [
         "3",
         "3 Gramercy Park West",
         "New York",
         "NY",
         10003
        ],
        [
         "3B",
         "3 Gramercy Park West",
         "New York",
         "NY",
         null
        ],
        [
         "3C",
         "3 Gramercy Park West",
         null,
         null,
         10003
        ],
        [
         "4A",
         "2711 4th St NW",
         "Albuquerque",
         "NM",
         87107
        ],
        [
         "4B",
         "346 W 600 S",
         "Salt Lake City",
         "Utah",
         84101
        ]
       ],
       "datasetInfos": [
        {
         "name": "_sqldf",
         "schema": {
          "fields": [
           {
            "metadata": {},
            "name": "id",
            "nullable": true,
            "type": "string"
           },
           {
            "metadata": {},
            "name": "address1",
            "nullable": true,
            "type": "string"
           },
           {
            "metadata": {},
            "name": "city",
            "nullable": true,
            "type": "string"
           },
           {
            "metadata": {},
            "name": "state",
            "nullable": true,
            "type": "string"
           },
           {
            "metadata": {},
            "name": "zip",
            "nullable": true,
            "type": "long"
           }
          ],
          "type": "struct"
         },
         "tableIdentifier": null,
         "typeStr": "pyspark.sql.dataframe.DataFrame"
        }
       ],
       "dbfsResultPath": null,
       "isJsonSchema": true,
       "metadata": {
        "dataframeName": "_sqldf",
        "executionCount": 2
       },
       "overflow": false,
       "plotOptions": {
        "customPlotOptions": {},
        "displayType": "table",
        "pivotAggregation": null,
        "pivotColumns": null,
        "xColumns": null,
        "yColumns": null
       },
       "removedWidgets": [],
       "schema": [
        {
         "metadata": "{}",
         "name": "id",
         "type": "\"string\""
        },
        {
         "metadata": "{}",
         "name": "address1",
         "type": "\"string\""
        },
        {
         "metadata": "{}",
         "name": "city",
         "type": "\"string\""
        },
        {
         "metadata": "{}",
         "name": "state",
         "type": "\"string\""
        },
        {
         "metadata": "{}",
         "name": "zip",
         "type": "\"long\""
        }
       ],
       "type": "table"
      }
     },
     "output_type": "display_data"
    }
   ],
   "source": [
    "%sql\n",
    "--Use hive format\n",
    "SELECT * FROM `hive_metastore`.`default`.`batch`;"
   ]
  },
  {
   "cell_type": "code",
   "execution_count": null,
   "metadata": {
    "application/vnd.databricks.v1+cell": {
     "cellMetadata": {
      "byteLimit": 2048000,
      "rowLimit": 10000
     },
     "inputWidgets": {},
     "nuid": "1bfe49e3-80c6-4947-a452-c0a017b81e21",
     "showTitle": false,
     "title": ""
    }
   },
   "outputs": [
    {
     "data": {
      "application/vnd.databricks.v1+bamboolib_hint": "{\"pd.DataFrames\": [], \"version\": \"0.0.1\"}",
      "text/plain": []
     },
     "metadata": {},
     "output_type": "display_data"
    },
    {
     "data": {
      "text/html": [
       "<style scoped>\n",
       "  .table-result-container {\n",
       "    max-height: 300px;\n",
       "    overflow: auto;\n",
       "  }\n",
       "  table, th, td {\n",
       "    border: 1px solid black;\n",
       "    border-collapse: collapse;\n",
       "  }\n",
       "  th, td {\n",
       "    padding: 5px;\n",
       "  }\n",
       "  th {\n",
       "    text-align: left;\n",
       "  }\n",
       "</style><div class='table-result-container'><table class='table-result'><thead style='background-color: white'><tr><th>id</th><th>address1</th><th>city</th><th>state</th><th>zip</th></tr></thead><tbody><tr><td>1</td><td>4600 Silver Hill Rd</td><td>Suitland</td><td>MD</td><td>20746</td></tr><tr><td>2</td><td>79 Wistful Vista</td><td>Peoria</td><td>IL</td><td>61604</td></tr><tr><td>3</td><td>3 Gramercy Park West</td><td>New York</td><td>NY</td><td>10003</td></tr><tr><td>3B</td><td>3 Gramercy Park West</td><td>New York</td><td>NY</td><td>null</td></tr><tr><td>3C</td><td>3 Gramercy Park West</td><td>null</td><td>null</td><td>10003</td></tr><tr><td>4A</td><td>2711 4th St NW</td><td>Albuquerque</td><td>NM</td><td>87107</td></tr><tr><td>4B</td><td>346 W 600 S</td><td>Salt Lake City</td><td>Utah</td><td>84101</td></tr></tbody></table></div>"
      ]
     },
     "metadata": {
      "application/vnd.databricks.v1+output": {
       "addedWidgets": {},
       "aggData": [],
       "aggError": "",
       "aggOverflow": false,
       "aggSchema": [],
       "aggSeriesLimitReached": false,
       "aggType": "",
       "arguments": {},
       "columnCustomDisplayInfos": {},
       "data": [
        [
         "1",
         "4600 Silver Hill Rd",
         "Suitland",
         "MD",
         20746
        ],
        [
         "2",
         "79 Wistful Vista",
         "Peoria",
         "IL",
         61604
        ],
        [
         "3",
         "3 Gramercy Park West",
         "New York",
         "NY",
         10003
        ],
        [
         "3B",
         "3 Gramercy Park West",
         "New York",
         "NY",
         null
        ],
        [
         "3C",
         "3 Gramercy Park West",
         null,
         null,
         10003
        ],
        [
         "4A",
         "2711 4th St NW",
         "Albuquerque",
         "NM",
         87107
        ],
        [
         "4B",
         "346 W 600 S",
         "Salt Lake City",
         "Utah",
         84101
        ]
       ],
       "datasetInfos": [],
       "dbfsResultPath": null,
       "isJsonSchema": true,
       "metadata": {},
       "overflow": false,
       "plotOptions": {
        "customPlotOptions": {},
        "displayType": "table",
        "pivotAggregation": null,
        "pivotColumns": null,
        "xColumns": null,
        "yColumns": null
       },
       "removedWidgets": [],
       "schema": [
        {
         "metadata": "{}",
         "name": "id",
         "type": "\"string\""
        },
        {
         "metadata": "{}",
         "name": "address1",
         "type": "\"string\""
        },
        {
         "metadata": "{}",
         "name": "city",
         "type": "\"string\""
        },
        {
         "metadata": "{}",
         "name": "state",
         "type": "\"string\""
        },
        {
         "metadata": "{}",
         "name": "zip",
         "type": "\"long\""
        }
       ],
       "type": "table"
      }
     },
     "output_type": "display_data"
    }
   ],
   "source": [
    "import pandas as pd\n",
    "#url = ('https://raw.github.com/pandas-dev/pandas/master/pandas/tests/data/tips.csv')\n",
    "df = (_sqldf)\n",
    "display(df)"
   ]
  },
  {
   "cell_type": "code",
   "execution_count": null,
   "metadata": {
    "application/vnd.databricks.v1+cell": {
     "cellMetadata": {
      "byteLimit": 2048000,
      "rowLimit": 10000
     },
     "inputWidgets": {},
     "nuid": "d1baa84d-1954-4e37-9bae-be9836cd18e3",
     "showTitle": false,
     "title": ""
    }
   },
   "outputs": [
    {
     "name": "stdout",
     "output_type": "stream",
     "text": [
      "<class 'pyspark.pandas.frame.DataFrame'>\n"
     ]
    },
    {
     "data": {
      "text/html": [
       "<style scoped>\n",
       "  .table-result-container {\n",
       "    max-height: 300px;\n",
       "    overflow: auto;\n",
       "  }\n",
       "  table, th, td {\n",
       "    border: 1px solid black;\n",
       "    border-collapse: collapse;\n",
       "  }\n",
       "  th, td {\n",
       "    padding: 5px;\n",
       "  }\n",
       "  th {\n",
       "    text-align: left;\n",
       "  }\n",
       "</style><div class='table-result-container'><table class='table-result'><thead style='background-color: white'><tr><th>id</th><th>address1</th><th>city</th><th>state</th><th>zip</th></tr></thead><tbody><tr><td>1</td><td>4600 Silver Hill Rd</td><td>Suitland</td><td>MD</td><td>20746</td></tr><tr><td>2</td><td>79 Wistful Vista</td><td>Peoria</td><td>IL</td><td>61604</td></tr><tr><td>3</td><td>3 Gramercy Park West</td><td>New York</td><td>NY</td><td>10003</td></tr><tr><td>3B</td><td>3 Gramercy Park West</td><td>New York</td><td>NY</td><td>null</td></tr><tr><td>3C</td><td>3 Gramercy Park West</td><td>null</td><td>null</td><td>10003</td></tr><tr><td>4A</td><td>2711 4th St NW</td><td>Albuquerque</td><td>NM</td><td>87107</td></tr><tr><td>4B</td><td>346 W 600 S</td><td>Salt Lake City</td><td>Utah</td><td>84101</td></tr></tbody></table></div>"
      ]
     },
     "metadata": {
      "application/vnd.databricks.v1+output": {
       "addedWidgets": {},
       "aggData": [],
       "aggError": "",
       "aggOverflow": false,
       "aggSchema": [],
       "aggSeriesLimitReached": false,
       "aggType": "",
       "arguments": {},
       "columnCustomDisplayInfos": {},
       "data": [
        [
         "1",
         "4600 Silver Hill Rd",
         "Suitland",
         "MD",
         20746
        ],
        [
         "2",
         "79 Wistful Vista",
         "Peoria",
         "IL",
         61604
        ],
        [
         "3",
         "3 Gramercy Park West",
         "New York",
         "NY",
         10003
        ],
        [
         "3B",
         "3 Gramercy Park West",
         "New York",
         "NY",
         null
        ],
        [
         "3C",
         "3 Gramercy Park West",
         null,
         null,
         10003
        ],
        [
         "4A",
         "2711 4th St NW",
         "Albuquerque",
         "NM",
         87107
        ],
        [
         "4B",
         "346 W 600 S",
         "Salt Lake City",
         "Utah",
         84101
        ]
       ],
       "datasetInfos": [],
       "dbfsResultPath": null,
       "isJsonSchema": true,
       "metadata": {},
       "overflow": false,
       "plotOptions": {
        "customPlotOptions": {},
        "displayType": "table",
        "pivotAggregation": null,
        "pivotColumns": null,
        "xColumns": null,
        "yColumns": null
       },
       "removedWidgets": [],
       "schema": [
        {
         "metadata": "{}",
         "name": "id",
         "type": "\"string\""
        },
        {
         "metadata": "{}",
         "name": "address1",
         "type": "\"string\""
        },
        {
         "metadata": "{}",
         "name": "city",
         "type": "\"string\""
        },
        {
         "metadata": "{}",
         "name": "state",
         "type": "\"string\""
        },
        {
         "metadata": "{}",
         "name": "zip",
         "type": "\"long\""
        }
       ],
       "type": "table"
      }
     },
     "output_type": "display_data"
    }
   ],
   "source": [
    "import numpy as np\n",
    "\n",
    "# Enable Arrow-based columnar data transfers\n",
    "spark.conf.set(\"spark.sql.execution.arrow.pyspark.enabled\", \"true\")\n",
    "spark_df = df.pandas_api()\n",
    "print(type(spark_df))\n",
    "display(spark_df)"
   ]
  },
  {
   "cell_type": "code",
   "execution_count": null,
   "metadata": {
    "application/vnd.databricks.v1+cell": {
     "cellMetadata": {
      "byteLimit": 2048000,
      "rowLimit": 10000
     },
     "inputWidgets": {},
     "nuid": "0239604a-878c-4dcd-a40d-8d0c6d392127",
     "showTitle": false,
     "title": ""
    }
   },
   "outputs": [
    {
     "data": {
      "text/html": [
       "<style scoped>\n",
       "  .table-result-container {\n",
       "    max-height: 300px;\n",
       "    overflow: auto;\n",
       "  }\n",
       "  table, th, td {\n",
       "    border: 1px solid black;\n",
       "    border-collapse: collapse;\n",
       "  }\n",
       "  th, td {\n",
       "    padding: 5px;\n",
       "  }\n",
       "  th {\n",
       "    text-align: left;\n",
       "  }\n",
       "</style><div class='table-result-container'><table class='table-result'><thead style='background-color: white'><tr><th>id</th><th>address1</th><th>city</th><th>state</th><th>zip</th></tr></thead><tbody><tr><td>2</td><td>79 Wistful Vista</td><td>Peoria</td><td>IL</td><td>61604</td></tr></tbody></table></div>"
      ]
     },
     "metadata": {
      "application/vnd.databricks.v1+output": {
       "addedWidgets": {},
       "aggData": [],
       "aggError": "",
       "aggOverflow": false,
       "aggSchema": [],
       "aggSeriesLimitReached": false,
       "aggType": "",
       "arguments": {},
       "columnCustomDisplayInfos": {},
       "data": [
        [
         "2",
         "79 Wistful Vista",
         "Peoria",
         "IL",
         61604
        ]
       ],
       "datasetInfos": [],
       "dbfsResultPath": null,
       "isJsonSchema": true,
       "metadata": {},
       "overflow": false,
       "plotOptions": {
        "customPlotOptions": {},
        "displayType": "table",
        "pivotAggregation": null,
        "pivotColumns": null,
        "xColumns": null,
        "yColumns": null
       },
       "removedWidgets": [],
       "schema": [
        {
         "metadata": "{}",
         "name": "id",
         "type": "\"string\""
        },
        {
         "metadata": "{}",
         "name": "address1",
         "type": "\"string\""
        },
        {
         "metadata": "{}",
         "name": "city",
         "type": "\"string\""
        },
        {
         "metadata": "{}",
         "name": "state",
         "type": "\"string\""
        },
        {
         "metadata": "{}",
         "name": "zip",
         "type": "\"long\""
        }
       ],
       "type": "table"
      }
     },
     "output_type": "display_data"
    }
   ],
   "source": [
    "df.createOrReplaceTempView(\"cens\")\n",
    "df2 = df.filter(df.state == 'IL')\n",
    "df2.createOrReplaceTempView(\"cens\")\n",
    "display(spark.sql(\"\"\"\n",
    "                select * from cens\n",
    "                \"\"\"))\n",
    "#sorted(df3.collect()) == sorted(df2.collect())\n",
    "#display(df3)\n",
    "#spark.catalog.dropTempView(\"people\")"
   ]
  },
  {
   "cell_type": "code",
   "execution_count": null,
   "metadata": {
    "application/vnd.databricks.v1+cell": {
     "cellMetadata": {
      "byteLimit": 2048000,
      "rowLimit": 10000
     },
     "inputWidgets": {},
     "nuid": "21b3e3ce-6d3b-43bc-8ceb-3b627629bc36",
     "showTitle": false,
     "title": ""
    }
   },
   "outputs": [
    {
     "data": {
      "text/html": [
       "<style scoped>\n",
       "  .table-result-container {\n",
       "    max-height: 300px;\n",
       "    overflow: auto;\n",
       "  }\n",
       "  table, th, td {\n",
       "    border: 1px solid black;\n",
       "    border-collapse: collapse;\n",
       "  }\n",
       "  th, td {\n",
       "    padding: 5px;\n",
       "  }\n",
       "  th {\n",
       "    text-align: left;\n",
       "  }\n",
       "</style><div class='table-result-container'><table class='table-result'><thead style='background-color: white'><tr><th>id</th><th>address1</th><th>city</th><th>state</th><th>zip</th></tr></thead><tbody><tr><td>2</td><td>79 Wistful Vista</td><td>Peoria</td><td>IL</td><td>61604</td></tr></tbody></table></div>"
      ]
     },
     "metadata": {
      "application/vnd.databricks.v1+output": {
       "addedWidgets": {},
       "aggData": [],
       "aggError": "",
       "aggOverflow": false,
       "aggSchema": [],
       "aggSeriesLimitReached": false,
       "aggType": "",
       "arguments": {},
       "columnCustomDisplayInfos": {},
       "data": [
        [
         "2",
         "79 Wistful Vista",
         "Peoria",
         "IL",
         61604
        ]
       ],
       "datasetInfos": [],
       "dbfsResultPath": null,
       "isJsonSchema": true,
       "metadata": {},
       "overflow": false,
       "plotOptions": {
        "customPlotOptions": {},
        "displayType": "table",
        "pivotAggregation": null,
        "pivotColumns": null,
        "xColumns": null,
        "yColumns": null
       },
       "removedWidgets": [],
       "schema": [
        {
         "metadata": "{}",
         "name": "id",
         "type": "\"string\""
        },
        {
         "metadata": "{}",
         "name": "address1",
         "type": "\"string\""
        },
        {
         "metadata": "{}",
         "name": "city",
         "type": "\"string\""
        },
        {
         "metadata": "{}",
         "name": "state",
         "type": "\"string\""
        },
        {
         "metadata": "{}",
         "name": "zip",
         "type": "\"long\""
        }
       ],
       "type": "table"
      }
     },
     "output_type": "display_data"
    }
   ],
   "source": [
    "df4=(spark.sql(\"\"\"\n",
    "                select * from cens\n",
    "                \"\"\"))\n",
    "display(df4)                "
   ]
  },
  {
   "cell_type": "code",
   "execution_count": null,
   "metadata": {
    "application/vnd.databricks.v1+cell": {
     "cellMetadata": {
      "byteLimit": 2048000,
      "rowLimit": 10000
     },
     "inputWidgets": {},
     "nuid": "527a3239-2bea-4130-b5a1-ba552c4b68ae",
     "showTitle": false,
     "title": ""
    }
   },
   "outputs": [
    {
     "name": "stdout",
     "output_type": "stream",
     "text": [
      "plot\n"
     ]
    },
    {
     "data": {
      "text/plain": [
       "<AxesSubplot:>"
      ]
     },
     "metadata": {},
     "output_type": "display_data"
    },
    {
     "name": "stdout",
     "output_type": "stream",
     "text": [
      "data\n"
     ]
    },
    {
     "data": {
      "image/png": "[encoded data removed]",
      "text/plain": [
       "<Figure size 640x480 with 1 Axes>"
      ]
     },
     "metadata": {},
     "output_type": "display_data"
    }
   ],
   "source": [
    "from sklearn.datasets import load_iris\n",
    "pd.set_option('display.max_rows', 5)\n",
    "data = load_iris()\n",
    "iris = pd.DataFrame(data=data.data, columns=data.feature_names)\n",
    "ax = iris.plot()\n",
    "print(\"plot\")\n",
    "display(ax)\n",
    "print(\"data\")\n",
    "#display(iris)\n",
    "iris.to_parquet(r'/Workspace/Users/[]/data/irisparquet.parquet', index=False)"
   ]
  },
  {
   "cell_type": "code",
   "execution_count": null,
   "metadata": {
    "ExecuteTime": {
     "end_time": "2023-06-03T20:16:49.801658Z",
     "start_time": "2023-06-03T20:16:46.687864Z"
    },
    "application/vnd.databricks.v1+cell": {
     "cellMetadata": {
      "byteLimit": 2048000,
      "rowLimit": 10000
     },
     "inputWidgets": {},
     "nuid": "b4175da2-60d6-419b-8e2d-33c96884b9b5",
     "showTitle": false,
     "title": ""
    },
    "collapsed": true
   },
   "outputs": [
    {
     "data": {
      "text/html": [
       "<style scoped>\n",
       "  .table-result-container {\n",
       "    max-height: 300px;\n",
       "    overflow: auto;\n",
       "  }\n",
       "  table, th, td {\n",
       "    border: 1px solid black;\n",
       "    border-collapse: collapse;\n",
       "  }\n",
       "  th, td {\n",
       "    padding: 5px;\n",
       "  }\n",
       "  th {\n",
       "    text-align: left;\n",
       "  }\n",
       "</style><div class='table-result-container'><table class='table-result'><thead style='background-color: white'><tr><th>id</th><th>address</th><th>match</th><th>matchtype</th><th>parsed</th><th>tigerlineid</th><th>side</th><th>statefp</th><th>countyfp</th><th>tract</th><th>block</th><th>lat</th><th>lon</th></tr></thead><tbody><tr><td>3C</td><td>3 Gramercy Park West, , , 10003</td><td>true</td><td>Exact</td><td>3 GRAMERCY PARK W, NEW YORK, NY, 10003</td><td>59653655</td><td>R</td><td>36</td><td>061</td><td>005000</td><td>5002</td><td>40.73832546500006</td><td>-73.98657723299993</td></tr><tr><td>1</td><td>4600 Silver Hill Rd, Suitland, MD, 20746</td><td>false</td><td>null</td><td>null</td><td>null</td><td>null</td><td>null</td><td>null</td><td>null</td><td>null</td><td>null</td><td>null</td></tr><tr><td>2</td><td>79 Wistful Vista, Peoria, IL, 61604</td><td>false</td><td>null</td><td>null</td><td>null</td><td>null</td><td>null</td><td>null</td><td>null</td><td>null</td><td>null</td><td>null</td></tr><tr><td>3</td><td>3 Gramercy Park West, New York, NY, 10003</td><td>true</td><td>Exact</td><td>3 GRAMERCY PARK W, NEW YORK, NY, 10003</td><td>59653655</td><td>R</td><td>36</td><td>061</td><td>005000</td><td>5002</td><td>40.73832546500006</td><td>-73.98657723299993</td></tr><tr><td>4A</td><td>2711 4th St NW, Albuquerque, NM, 87107</td><td>true</td><td>Exact</td><td>2711 4TH ST NW, ALBUQUERQUE, NM, 87107</td><td>206708141</td><td>L</td><td>35</td><td>001</td><td>002900</td><td>1011</td><td>35.112019142000065</td><td>-106.64637726199999</td></tr><tr><td>4B</td><td>346 W 600 S, Salt Lake City, Utah, 84101</td><td>true</td><td>Exact</td><td>346 W 600 S, SALT LAKE CITY, UT, 84101</td><td>176067070</td><td>R</td><td>49</td><td>035</td><td>114000</td><td>3018</td><td>40.75630099000006</td><td>-111.90128884699999</td></tr><tr><td>3B</td><td>3 Gramercy Park West, New York, NY, </td><td>true</td><td>Exact</td><td>3 GRAMERCY PARK W, NEW YORK, NY, 10003</td><td>59653655</td><td>R</td><td>36</td><td>061</td><td>005000</td><td>5002</td><td>40.73832546500006</td><td>-73.98657723299993</td></tr></tbody></table></div>"
      ]
     },
     "metadata": {
      "application/vnd.databricks.v1+output": {
       "addedWidgets": {},
       "aggData": [],
       "aggError": "",
       "aggOverflow": false,
       "aggSchema": [],
       "aggSeriesLimitReached": false,
       "aggType": "",
       "arguments": {},
       "columnCustomDisplayInfos": {},
       "data": [
        [
         "3C",
         "3 Gramercy Park West, , , 10003",
         true,
         "Exact",
         "3 GRAMERCY PARK W, NEW YORK, NY, 10003",
         "59653655",
         "R",
         "36",
         "061",
         "005000",
         "5002",
         40.73832546500006,
         -73.98657723299993
        ],
        [
         "1",
         "4600 Silver Hill Rd, Suitland, MD, 20746",
         false,
         null,
         null,
         null,
         null,
         null,
         null,
         null,
         null,
         null,
         null
        ],
        [
         "2",
         "79 Wistful Vista, Peoria, IL, 61604",
         false,
         null,
         null,
         null,
         null,
         null,
         null,
         null,
         null,
         null,
         null
        ],
        [
         "3",
         "3 Gramercy Park West, New York, NY, 10003",
         true,
         "Exact",
         "3 GRAMERCY PARK W, NEW YORK, NY, 10003",
         "59653655",
         "R",
         "36",
         "061",
         "005000",
         "5002",
         40.73832546500006,
         -73.98657723299993
        ],
        [
         "4A",
         "2711 4th St NW, Albuquerque, NM, 87107",
         true,
         "Exact",
         "2711 4TH ST NW, ALBUQUERQUE, NM, 87107",
         "206708141",
         "L",
         "35",
         "001",
         "002900",
         "1011",
         35.112019142000065,
         -106.64637726199999
        ],
        [
         "4B",
         "346 W 600 S, Salt Lake City, Utah, 84101",
         true,
         "Exact",
         "346 W 600 S, SALT LAKE CITY, UT, 84101",
         "176067070",
         "R",
         "49",
         "035",
         "114000",
         "3018",
         40.75630099000006,
         -111.90128884699999
        ],
        [
         "3B",
         "3 Gramercy Park West, New York, NY, ",
         true,
         "Exact",
         "3 GRAMERCY PARK W, NEW YORK, NY, 10003",
         "59653655",
         "R",
         "36",
         "061",
         "005000",
         "5002",
         40.73832546500006,
         -73.98657723299993
        ]
       ],
       "datasetInfos": [],
       "dbfsResultPath": null,
       "isJsonSchema": true,
       "metadata": {},
       "overflow": false,
       "plotOptions": {
        "customPlotOptions": {},
        "displayType": "table",
        "pivotAggregation": null,
        "pivotColumns": null,
        "xColumns": null,
        "yColumns": null
       },
       "removedWidgets": [],
       "schema": [
        {
         "metadata": "{}",
         "name": "id",
         "type": "\"string\""
        },
        {
         "metadata": "{}",
         "name": "address",
         "type": "\"string\""
        },
        {
         "metadata": "{}",
         "name": "match",
         "type": "\"boolean\""
        },
        {
         "metadata": "{}",
         "name": "matchtype",
         "type": "\"string\""
        },
        {
         "metadata": "{}",
         "name": "parsed",
         "type": "\"string\""
        },
        {
         "metadata": "{}",
         "name": "tigerlineid",
         "type": "\"string\""
        },
        {
         "metadata": "{}",
         "name": "side",
         "type": "\"string\""
        },
        {
         "metadata": "{}",
         "name": "statefp",
         "type": "\"string\""
        },
        {
         "metadata": "{}",
         "name": "countyfp",
         "type": "\"string\""
        },
        {
         "metadata": "{}",
         "name": "tract",
         "type": "\"string\""
        },
        {
         "metadata": "{}",
         "name": "block",
         "type": "\"string\""
        },
        {
         "metadata": "{}",
         "name": "lat",
         "type": "\"double\""
        },
        {
         "metadata": "{}",
         "name": "lon",
         "type": "\"double\""
        }
       ],
       "type": "table"
      }
     },
     "output_type": "display_data"
    }
   ],
   "source": [
    "import pandas as pd\n",
    "import numpy as np\n",
    "#%pip install censusgeocode\n",
    "from censusgeocode import CensusGeocode\n",
    "import censusgeocode as cg\n",
    "cg = CensusGeocode(benchmark='Public_AR_Current', vintage='Census2020_Current')\n",
    "\n",
    "cg.coordinates(x=-76, y=41)\n",
    "cg.onelineaddress('1600 Pennsylvania Avenue, Washington, DC')\n",
    "\n",
    "#df = _sqldf\n",
    "#df = pd.read_csv(r'/Workspace/Users/[]/data/batch.csv')\n",
    "dfo = cg.addressbatch('/Workspace/Users/[]/data/batch.csv')\n",
    "df=pd.DataFrame(dfo)\n",
    "df.to_csv(r'/Workspace/Users/[]/data/out.csv', index=False)\n",
    "display(df)"
   ]
  },
  {
   "cell_type": "code",
   "execution_count": null,
   "metadata": {
    "application/vnd.databricks.v1+cell": {
     "cellMetadata": {
      "byteLimit": 2048000,
      "rowLimit": 10000
     },
     "inputWidgets": {},
     "nuid": "1877493d-b24d-4c44-b6ad-7fe83b8c9e6b",
     "showTitle": false,
     "title": ""
    },
    "collapsed": false
   },
   "outputs": [
    {
     "data": {
      "text/html": [
       "<div>\n",
       "<style scoped>\n",
       "    .dataframe tbody tr th:only-of-type {\n",
       "        vertical-align: middle;\n",
       "    }\n",
       "\n",
       "    .dataframe tbody tr th {\n",
       "        vertical-align: top;\n",
       "    }\n",
       "\n",
       "    .dataframe thead th {\n",
       "        text-align: right;\n",
       "    }\n",
       "</style>\n",
       "<table border=\"1\" class=\"dataframe\">\n",
       "  <thead>\n",
       "    <tr style=\"text-align: right;\">\n",
       "      <th></th>\n",
       "      <th>lat</th>\n",
       "      <th>lon</th>\n",
       "    </tr>\n",
       "  </thead>\n",
       "  <tbody>\n",
       "    <tr>\n",
       "      <th>count</th>\n",
       "      <td>5.000000</td>\n",
       "      <td>5.000000</td>\n",
       "    </tr>\n",
       "    <tr>\n",
       "      <th>mean</th>\n",
       "      <td>39.616659</td>\n",
       "      <td>-88.101480</td>\n",
       "    </tr>\n",
       "    <tr>\n",
       "      <th>std</th>\n",
       "      <td>2.518182</td>\n",
       "      <td>19.416717</td>\n",
       "    </tr>\n",
       "    <tr>\n",
       "      <th>min</th>\n",
       "      <td>35.112019</td>\n",
       "      <td>-111.901289</td>\n",
       "    </tr>\n",
       "    <tr>\n",
       "      <th>25%</th>\n",
       "      <td>40.738325</td>\n",
       "      <td>-106.646377</td>\n",
       "    </tr>\n",
       "    <tr>\n",
       "      <th>50%</th>\n",
       "      <td>40.738325</td>\n",
       "      <td>-73.986577</td>\n",
       "    </tr>\n",
       "    <tr>\n",
       "      <th>75%</th>\n",
       "      <td>40.738325</td>\n",
       "      <td>-73.986577</td>\n",
       "    </tr>\n",
       "    <tr>\n",
       "      <th>max</th>\n",
       "      <td>40.756301</td>\n",
       "      <td>-73.986577</td>\n",
       "    </tr>\n",
       "  </tbody>\n",
       "</table>\n",
       "</div>"
      ],
      "text/plain": [
       "             lat         lon\n",
       "count   5.000000    5.000000\n",
       "mean   39.616659  -88.101480\n",
       "std     2.518182   19.416717\n",
       "min    35.112019 -111.901289\n",
       "25%    40.738325 -106.646377\n",
       "50%    40.738325  -73.986577\n",
       "75%    40.738325  -73.986577\n",
       "max    40.756301  -73.986577"
      ]
     },
     "execution_count": 3,
     "metadata": {},
     "output_type": "execute_result"
    }
   ],
   "source": [
    "df.describe()"
   ]
  },
  {
   "cell_type": "code",
   "execution_count": null,
   "metadata": {
    "application/vnd.databricks.v1+cell": {
     "cellMetadata": {
      "byteLimit": 2048000,
      "rowLimit": 10000
     },
     "inputWidgets": {},
     "nuid": "8b557fca-c332-4447-8a9d-cccb4f5eaa2c",
     "showTitle": false,
     "title": ""
    }
   },
   "outputs": [],
   "source": []
  }
 ],
 "metadata": {
  "application/vnd.databricks.v1+notebook": {
   "dashboards": [],
   "language": "python",
   "notebookMetadata": {
    "mostRecentlyExecutedCommandWithImplicitDF": {
     "commandId": 3926831330243532,
     "dataframes": [
      "_sqldf"
     ]
    },
    "pythonIndentUnit": 4
   },
   "notebookName": "uscensus",
   "widgets": {}
  },
  "kernelspec": {
   "display_name": "Python 3 (ipykernel)",
   "language": "python",
   "name": "python3"
  },
  "language_info": {
   "codemirror_mode": {
    "name": "ipython",
    "version": 2
   },
   "file_extension": ".py",
   "mimetype": "text/x-python",
   "name": "python",
   "nbconvert_exporter": "python",
   "pygments_lexer": "ipython2",
   "version": "2.7.6"
  }
 },
 "nbformat": 4,
 "nbformat_minor": 0
}
